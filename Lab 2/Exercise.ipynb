{
 "cells": [
  {
   "cell_type": "markdown",
   "metadata": {},
   "source": [
    "# Import Libraries"
   ]
  },
  {
   "cell_type": "code",
   "execution_count": 57,
   "metadata": {},
   "outputs": [],
   "source": [
    "import numpy as np\n",
    "import pandas as pd\n",
    "import seaborn as sns\n",
    "from sklearn.impute import SimpleImputer\n",
    "from sklearn.preprocessing import MinMaxScaler, StandardScaler, LabelEncoder"
   ]
  },
  {
   "cell_type": "markdown",
   "metadata": {},
   "source": [
    "# Load Data"
   ]
  },
  {
   "cell_type": "code",
   "execution_count": 58,
   "metadata": {
    "pycharm": {
     "name": "#%%\n"
    }
   },
   "outputs": [
    {
     "name": "stdout",
     "output_type": "stream",
     "text": [
      "\n",
      "Data :\n",
      "       Price   Age       KM FuelType     HP  MetColor  Automatic    CC  Doors  \\\n",
      "0     13500  23.0  46986.0   Diesel   90.0       1.0          0  2000  three   \n",
      "1     13750  23.0  72937.0   Diesel   90.0       1.0          0  2000      3   \n",
      "2     13950  24.0  41711.0   Diesel   90.0       NaN          0  2000      3   \n",
      "3     14950  26.0  48000.0   Diesel   90.0       0.0          0  2000      3   \n",
      "4     13750  30.0  38500.0   Diesel   90.0       0.0          0  2000      3   \n",
      "...     ...   ...      ...      ...    ...       ...        ...   ...    ...   \n",
      "1431   7500   NaN  20544.0   Petrol   86.0       1.0          0  1300      3   \n",
      "1432  10845  72.0      NaN   Petrol   86.0       0.0          0  1300      3   \n",
      "1433   8500   NaN  17016.0   Petrol   86.0       0.0          0  1300      3   \n",
      "1434   7250  70.0      NaN      NaN   86.0       1.0          0  1300      3   \n",
      "1435   6950  76.0      1.0   Petrol  110.0       0.0          0  1600      5   \n",
      "\n",
      "      Weight  \n",
      "0       1165  \n",
      "1       1165  \n",
      "2       1165  \n",
      "3       1165  \n",
      "4       1170  \n",
      "...      ...  \n",
      "1431    1025  \n",
      "1432    1015  \n",
      "1433    1015  \n",
      "1434    1015  \n",
      "1435    1114  \n",
      "\n",
      "[1436 rows x 10 columns]\n"
     ]
    }
   ],
   "source": [
    "data = pd.read_csv('Datasets/Exercise-CarData.csv', index_col=[0], na_values=['??', '????'])\n",
    "print(\"\\nData :\\n\", data)"
   ]
  },
  {
   "cell_type": "markdown",
   "metadata": {},
   "source": [
    "# Converting string to numerics"
   ]
  },
  {
   "cell_type": "code",
   "execution_count": 59,
   "metadata": {},
   "outputs": [
    {
     "name": "stdout",
     "output_type": "stream",
     "text": [
      "\n",
      "\n",
      " Data :\n",
      "       Price   Age       KM FuelType     HP  MetColor  Automatic    CC  Doors  \\\n",
      "0     13500  23.0  46986.0   Diesel   90.0       1.0          0  2000      3   \n",
      "1     13750  23.0  72937.0   Diesel   90.0       1.0          0  2000      3   \n",
      "2     13950  24.0  41711.0   Diesel   90.0       NaN          0  2000      3   \n",
      "3     14950  26.0  48000.0   Diesel   90.0       0.0          0  2000      3   \n",
      "4     13750  30.0  38500.0   Diesel   90.0       0.0          0  2000      3   \n",
      "...     ...   ...      ...      ...    ...       ...        ...   ...    ...   \n",
      "1431   7500   NaN  20544.0   Petrol   86.0       1.0          0  1300      3   \n",
      "1432  10845  72.0      NaN   Petrol   86.0       0.0          0  1300      3   \n",
      "1433   8500   NaN  17016.0   Petrol   86.0       0.0          0  1300      3   \n",
      "1434   7250  70.0      NaN      NaN   86.0       1.0          0  1300      3   \n",
      "1435   6950  76.0      1.0   Petrol  110.0       0.0          0  1600      5   \n",
      "\n",
      "      Weight  \n",
      "0       1165  \n",
      "1       1165  \n",
      "2       1165  \n",
      "3       1165  \n",
      "4       1170  \n",
      "...      ...  \n",
      "1431    1025  \n",
      "1432    1015  \n",
      "1433    1015  \n",
      "1434    1015  \n",
      "1435    1114  \n",
      "\n",
      "[1436 rows x 10 columns]\n"
     ]
    }
   ],
   "source": [
    "str_to_num_dictionary = {\"zero\": '0', \"one\": '1', \"two\": '2', \"three\": '3', \"four\": '4', \"five\": '5', \"six\": '6',\n",
    "                         \"seven\": '7', \"eight\": '8', \"nine\": '9', \"ten\": '10'}\n",
    "\n",
    "for i in str_to_num_dictionary.keys():\n",
    "    data['Doors'].replace(i, str_to_num_dictionary[i], inplace=True)\n",
    "data[\"Doors\"] = pd.to_numeric(data[\"Doors\"])\n",
    "print(\"\\n\\n Data :\\n\", data)"
   ]
  },
  {
   "cell_type": "markdown",
   "metadata": {},
   "source": [
    "# Converting String Data to Labels"
   ]
  },
  {
   "cell_type": "code",
   "execution_count": 60,
   "metadata": {
    "pycharm": {
     "name": "#%%\n"
    },
    "scrolled": true
   },
   "outputs": [
    {
     "name": "stdout",
     "output_type": "stream",
     "text": [
      "\n",
      "\n",
      " Data :\n",
      "       Price   Age       KM  FuelType     HP  MetColor  Automatic    CC  Doors  \\\n",
      "0     13500  23.0  46986.0         1   90.0       1.0          0  2000      3   \n",
      "1     13750  23.0  72937.0         1   90.0       1.0          0  2000      3   \n",
      "2     13950  24.0  41711.0         1   90.0       NaN          0  2000      3   \n",
      "3     14950  26.0  48000.0         1   90.0       0.0          0  2000      3   \n",
      "4     13750  30.0  38500.0         1   90.0       0.0          0  2000      3   \n",
      "...     ...   ...      ...       ...    ...       ...        ...   ...    ...   \n",
      "1431   7500   NaN  20544.0         2   86.0       1.0          0  1300      3   \n",
      "1432  10845  72.0      NaN         2   86.0       0.0          0  1300      3   \n",
      "1433   8500   NaN  17016.0         2   86.0       0.0          0  1300      3   \n",
      "1434   7250  70.0      NaN         3   86.0       1.0          0  1300      3   \n",
      "1435   6950  76.0      1.0         2  110.0       0.0          0  1600      5   \n",
      "\n",
      "      Weight  \n",
      "0       1165  \n",
      "1       1165  \n",
      "2       1165  \n",
      "3       1165  \n",
      "4       1170  \n",
      "...      ...  \n",
      "1431    1025  \n",
      "1432    1015  \n",
      "1433    1015  \n",
      "1434    1015  \n",
      "1435    1114  \n",
      "\n",
      "[1436 rows x 10 columns]\n"
     ]
    }
   ],
   "source": [
    "le = LabelEncoder()\n",
    "data['FuelType'] = le.fit_transform(data['FuelType'])\n",
    "print(\"\\n\\n Data :\\n\", data)"
   ]
  },
  {
   "cell_type": "markdown",
   "metadata": {},
   "source": [
    "# Imputation with mean values"
   ]
  },
  {
   "cell_type": "code",
   "execution_count": 61,
   "metadata": {
    "pycharm": {
     "name": "#%%\n"
    }
   },
   "outputs": [
    {
     "name": "stdout",
     "output_type": "stream",
     "text": [
      "\n",
      "Data :\n",
      "         Price        Age            KM  FuelType     HP  MetColor  Automatic  \\\n",
      "0     13500.0  23.000000  46986.000000       1.0   90.0  1.000000        0.0   \n",
      "1     13750.0  23.000000  72937.000000       1.0   90.0  1.000000        0.0   \n",
      "2     13950.0  24.000000  41711.000000       1.0   90.0  0.674961        0.0   \n",
      "3     14950.0  26.000000  48000.000000       1.0   90.0  0.000000        0.0   \n",
      "4     13750.0  30.000000  38500.000000       1.0   90.0  0.000000        0.0   \n",
      "...       ...        ...           ...       ...    ...       ...        ...   \n",
      "1431   7500.0  55.672156  20544.000000       2.0   86.0  1.000000        0.0   \n",
      "1432  10845.0  72.000000  68647.239972       2.0   86.0  0.000000        0.0   \n",
      "1433   8500.0  55.672156  17016.000000       2.0   86.0  0.000000        0.0   \n",
      "1434   7250.0  70.000000  68647.239972       3.0   86.0  1.000000        0.0   \n",
      "1435   6950.0  76.000000      1.000000       2.0  110.0  0.000000        0.0   \n",
      "\n",
      "          CC  Doors  Weight  \n",
      "0     2000.0    3.0  1165.0  \n",
      "1     2000.0    3.0  1165.0  \n",
      "2     2000.0    3.0  1165.0  \n",
      "3     2000.0    3.0  1165.0  \n",
      "4     2000.0    3.0  1170.0  \n",
      "...      ...    ...     ...  \n",
      "1431  1300.0    3.0  1025.0  \n",
      "1432  1300.0    3.0  1015.0  \n",
      "1433  1300.0    3.0  1015.0  \n",
      "1434  1300.0    3.0  1015.0  \n",
      "1435  1600.0    5.0  1114.0  \n",
      "\n",
      "[1436 rows x 10 columns]\n"
     ]
    }
   ],
   "source": [
    "imputer = SimpleImputer(missing_values=np.nan, strategy=\"mean\")\n",
    "columns = data.columns\n",
    "index = data.index\n",
    "data = pd.DataFrame(imputer.fit_transform(data))\n",
    "data.columns = columns\n",
    "data.index = index\n",
    "print(\"\\nData :\\n\", data)"
   ]
  },
  {
   "cell_type": "markdown",
   "metadata": {},
   "source": [
    "# Feature selection"
   ]
  },
  {
   "cell_type": "code",
   "execution_count": 62,
   "metadata": {},
   "outputs": [
    {
     "data": {
      "text/html": [
       "<div>\n",
       "<style scoped>\n",
       "    .dataframe tbody tr th:only-of-type {\n",
       "        vertical-align: middle;\n",
       "    }\n",
       "\n",
       "    .dataframe tbody tr th {\n",
       "        vertical-align: top;\n",
       "    }\n",
       "\n",
       "    .dataframe thead th {\n",
       "        text-align: right;\n",
       "    }\n",
       "</style>\n",
       "<table border=\"1\" class=\"dataframe\">\n",
       "  <thead>\n",
       "    <tr style=\"text-align: right;\">\n",
       "      <th></th>\n",
       "      <th>Price</th>\n",
       "      <th>Age</th>\n",
       "      <th>KM</th>\n",
       "      <th>FuelType</th>\n",
       "      <th>HP</th>\n",
       "      <th>MetColor</th>\n",
       "      <th>Automatic</th>\n",
       "      <th>CC</th>\n",
       "      <th>Doors</th>\n",
       "      <th>Weight</th>\n",
       "    </tr>\n",
       "  </thead>\n",
       "  <tbody>\n",
       "    <tr>\n",
       "      <th>0</th>\n",
       "      <td>13500.0</td>\n",
       "      <td>23.0</td>\n",
       "      <td>46986.0</td>\n",
       "      <td>1.0</td>\n",
       "      <td>90.0</td>\n",
       "      <td>1.000000</td>\n",
       "      <td>0.0</td>\n",
       "      <td>2000.0</td>\n",
       "      <td>3.0</td>\n",
       "      <td>1165.0</td>\n",
       "    </tr>\n",
       "    <tr>\n",
       "      <th>1</th>\n",
       "      <td>13750.0</td>\n",
       "      <td>23.0</td>\n",
       "      <td>72937.0</td>\n",
       "      <td>1.0</td>\n",
       "      <td>90.0</td>\n",
       "      <td>1.000000</td>\n",
       "      <td>0.0</td>\n",
       "      <td>2000.0</td>\n",
       "      <td>3.0</td>\n",
       "      <td>1165.0</td>\n",
       "    </tr>\n",
       "    <tr>\n",
       "      <th>2</th>\n",
       "      <td>13950.0</td>\n",
       "      <td>24.0</td>\n",
       "      <td>41711.0</td>\n",
       "      <td>1.0</td>\n",
       "      <td>90.0</td>\n",
       "      <td>0.674961</td>\n",
       "      <td>0.0</td>\n",
       "      <td>2000.0</td>\n",
       "      <td>3.0</td>\n",
       "      <td>1165.0</td>\n",
       "    </tr>\n",
       "    <tr>\n",
       "      <th>3</th>\n",
       "      <td>14950.0</td>\n",
       "      <td>26.0</td>\n",
       "      <td>48000.0</td>\n",
       "      <td>1.0</td>\n",
       "      <td>90.0</td>\n",
       "      <td>0.000000</td>\n",
       "      <td>0.0</td>\n",
       "      <td>2000.0</td>\n",
       "      <td>3.0</td>\n",
       "      <td>1165.0</td>\n",
       "    </tr>\n",
       "    <tr>\n",
       "      <th>4</th>\n",
       "      <td>13750.0</td>\n",
       "      <td>30.0</td>\n",
       "      <td>38500.0</td>\n",
       "      <td>1.0</td>\n",
       "      <td>90.0</td>\n",
       "      <td>0.000000</td>\n",
       "      <td>0.0</td>\n",
       "      <td>2000.0</td>\n",
       "      <td>3.0</td>\n",
       "      <td>1170.0</td>\n",
       "    </tr>\n",
       "  </tbody>\n",
       "</table>\n",
       "</div>"
      ],
      "text/plain": [
       "     Price   Age       KM  FuelType    HP  MetColor  Automatic      CC  Doors  \\\n",
       "0  13500.0  23.0  46986.0       1.0  90.0  1.000000        0.0  2000.0    3.0   \n",
       "1  13750.0  23.0  72937.0       1.0  90.0  1.000000        0.0  2000.0    3.0   \n",
       "2  13950.0  24.0  41711.0       1.0  90.0  0.674961        0.0  2000.0    3.0   \n",
       "3  14950.0  26.0  48000.0       1.0  90.0  0.000000        0.0  2000.0    3.0   \n",
       "4  13750.0  30.0  38500.0       1.0  90.0  0.000000        0.0  2000.0    3.0   \n",
       "\n",
       "   Weight  \n",
       "0  1165.0  \n",
       "1  1165.0  \n",
       "2  1165.0  \n",
       "3  1165.0  \n",
       "4  1170.0  "
      ]
     },
     "execution_count": 62,
     "metadata": {},
     "output_type": "execute_result"
    }
   ],
   "source": [
    "data.head()"
   ]
  },
  {
   "cell_type": "code",
   "execution_count": 63,
   "metadata": {
    "pycharm": {
     "name": "#%%\n"
    }
   },
   "outputs": [
    {
     "name": "stdout",
     "output_type": "stream",
     "text": [
      "             Price       Age        KM  FuelType        HP  MetColor  \\\n",
      "Price     1.000000 -0.845111 -0.565016  0.022730  0.308414  0.107943   \n",
      "Age      -0.845111  1.000000  0.495199  0.033599 -0.152946 -0.091331   \n",
      "KM       -0.565016  0.495199  1.000000 -0.356238 -0.332984 -0.088587   \n",
      "FuelType  0.022730  0.033599 -0.356238  1.000000  0.304205  0.021381   \n",
      "HP        0.308414 -0.152946 -0.332984  0.304205  1.000000  0.060990   \n",
      "\n",
      "          Automatic        CC     Doors    Weight  \n",
      "Price      0.033081  0.165067  0.185326  0.581198  \n",
      "Age        0.030931 -0.116255 -0.151785 -0.442055  \n",
      "KM        -0.080743  0.296281 -0.036021 -0.025758  \n",
      "FuelType   0.073860 -0.499114 -0.018434 -0.355254  \n",
      "HP         0.013753  0.053466  0.096938  0.086214  \n"
     ]
    },
    {
     "data": {
      "text/plain": [
       "<AxesSubplot:>"
      ]
     },
     "execution_count": 63,
     "metadata": {},
     "output_type": "execute_result"
    },
    {
     "data": {
      "image/png": "[encoded data removed]",
      "text/plain": [
       "<Figure size 432x288 with 2 Axes>"
      ]
     },
     "metadata": {
      "needs_background": "light"
     },
     "output_type": "display_data"
    }
   ],
   "source": [
    "#feature selection\n",
    "corr = data.corr()\n",
    "print(corr.head())\n",
    "sns.heatmap(corr)"
   ]
  },
  {
   "cell_type": "code",
   "execution_count": 64,
   "metadata": {
    "pycharm": {
     "name": "#%%\n"
    }
   },
   "outputs": [],
   "source": [
    "columns = np.full((corr.shape[0],), True, dtype=bool)\n",
    "for i in range(corr.shape[0]):\n",
    "    for j in range(i+1, corr.shape[0]):\n",
    "        if corr.iloc[i,j] >= 0.9:\n",
    "            if columns[j]:\n",
    "                columns[j] = False"
   ]
  },
  {
   "cell_type": "code",
   "execution_count": 65,
   "metadata": {},
   "outputs": [
    {
     "data": {
      "text/plain": [
       "(10,)"
      ]
     },
     "execution_count": 65,
     "metadata": {},
     "output_type": "execute_result"
    }
   ],
   "source": [
    "selected_columns = data.columns[columns]\n",
    "selected_columns.shape"
   ]
  },
  {
   "cell_type": "code",
   "execution_count": 66,
   "metadata": {},
   "outputs": [
    {
     "name": "stdout",
     "output_type": "stream",
     "text": [
      "        Price        Age            KM  FuelType     HP  MetColor  Automatic  \\\n",
      "0     13500.0  23.000000  46986.000000       1.0   90.0  1.000000        0.0   \n",
      "1     13750.0  23.000000  72937.000000       1.0   90.0  1.000000        0.0   \n",
      "2     13950.0  24.000000  41711.000000       1.0   90.0  0.674961        0.0   \n",
      "3     14950.0  26.000000  48000.000000       1.0   90.0  0.000000        0.0   \n",
      "4     13750.0  30.000000  38500.000000       1.0   90.0  0.000000        0.0   \n",
      "...       ...        ...           ...       ...    ...       ...        ...   \n",
      "1431   7500.0  55.672156  20544.000000       2.0   86.0  1.000000        0.0   \n",
      "1432  10845.0  72.000000  68647.239972       2.0   86.0  0.000000        0.0   \n",
      "1433   8500.0  55.672156  17016.000000       2.0   86.0  0.000000        0.0   \n",
      "1434   7250.0  70.000000  68647.239972       3.0   86.0  1.000000        0.0   \n",
      "1435   6950.0  76.000000      1.000000       2.0  110.0  0.000000        0.0   \n",
      "\n",
      "          CC  Doors  Weight  \n",
      "0     2000.0    3.0  1165.0  \n",
      "1     2000.0    3.0  1165.0  \n",
      "2     2000.0    3.0  1165.0  \n",
      "3     2000.0    3.0  1165.0  \n",
      "4     2000.0    3.0  1170.0  \n",
      "...      ...    ...     ...  \n",
      "1431  1300.0    3.0  1025.0  \n",
      "1432  1300.0    3.0  1015.0  \n",
      "1433  1300.0    3.0  1015.0  \n",
      "1434  1300.0    3.0  1015.0  \n",
      "1435  1600.0    5.0  1114.0  \n",
      "\n",
      "[1436 rows x 10 columns]\n"
     ]
    }
   ],
   "source": [
    "data = data[selected_columns]\n",
    "print(data)"
   ]
  },
  {
   "cell_type": "markdown",
   "metadata": {},
   "source": [
    "# Scaling and transformation"
   ]
  },
  {
   "cell_type": "code",
   "execution_count": 67,
   "metadata": {},
   "outputs": [
    {
     "name": "stdout",
     "output_type": "stream",
     "text": [
      "Dataset after preprocessing\n",
      "\n",
      " [[ 7.63762679e-01 -1.82280225e+00 -5.83476268e-01 ...  0.00000000e+00\n",
      "   2.31497633e+00 -1.08513865e+00]\n",
      " [ 8.32714853e-01 -1.82280225e+00  1.15550780e-01 ...  0.00000000e+00\n",
      "   2.31497633e+00 -1.08513865e+00]\n",
      " [ 8.87876592e-01 -1.76701156e+00 -7.25565886e-01 ...  0.00000000e+00\n",
      "   2.31497633e+00 -1.08513865e+00]\n",
      " ...\n",
      " [-6.15280799e-01 -4.89326897e-16 -1.39076079e+00 ...  0.00000000e+00\n",
      "  -1.42599356e+00 -1.08513865e+00]\n",
      " [-9.60041669e-01  7.99360384e-01  0.00000000e+00 ...  0.00000000e+00\n",
      "  -1.42599356e+00 -1.08513865e+00]\n",
      " [-1.04278428e+00  1.13410455e+00 -1.84908399e+00 ...  0.00000000e+00\n",
      "   1.77279249e-01  1.01494100e+00]]\n"
     ]
    }
   ],
   "source": [
    "data = data.iloc[:, :-1].values\n",
    "scaler = MinMaxScaler()\n",
    "std = StandardScaler()\n",
    "data[:,0:3] = std.fit_transform(scaler.fit_transform(data[:,0:3]))\n",
    "data[:,4:6] = std.fit_transform(scaler.fit_transform(data[:,4:6]))\n",
    "data[:,7:9] = std.fit_transform(scaler.fit_transform(data[:,7:9]))\n",
    "print(\"Dataset after preprocessing\\n\\n\",data)"
   ]
  }
 ],
 "metadata": {
  "kernelspec": {
   "display_name": "Python 3 (ipykernel)",
   "language": "python",
   "name": "python3"
  },
  "language_info": {
   "codemirror_mode": {
    "name": "ipython",
    "version": 3
   },
   "file_extension": ".py",
   "mimetype": "text/x-python",
   "name": "python",
   "nbconvert_exporter": "python",
   "pygments_lexer": "ipython3",
   "version": "3.9.6"
  }
 },
 "nbformat": 4,
 "nbformat_minor": 1
}